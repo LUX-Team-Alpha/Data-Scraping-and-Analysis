{
 "cells": [
  {
   "cell_type": "code",
   "execution_count": 1,
   "id": "64ad1174",
   "metadata": {},
   "outputs": [],
   "source": [
    "from selenium import webdriver\n",
    "from selenium.webdriver.common.by import By\n",
    "from selenium.webdriver.chrome.service import Service\n",
    "from selenium.webdriver.chrome.options import Options\n",
    "from selenium.webdriver.support.ui import WebDriverWait\n",
    "from selenium.webdriver.support import expected_conditions as EC\n",
    "from bs4 import BeautifulSoup\n",
    "import pandas as pd"
   ]
  },
  {
   "cell_type": "code",
   "execution_count": 2,
   "id": "777ebd45",
   "metadata": {},
   "outputs": [],
   "source": [
    "# Configure Chrome options\n",
    "chrome_options = Options()\n",
    "chrome_options.add_argument(\"--headless\")  # Run headless Chrome for scraping without GUI\n",
    "chrome_options.add_argument(\"--disable-gpu\")"
   ]
  },
  {
   "cell_type": "code",
   "execution_count": 4,
   "id": "193eccd3",
   "metadata": {},
   "outputs": [],
   "source": [
    "# Set up the Chrome driver\n",
    "driver_service = Service('chromedriver.exe')  # Update with your path to chromedriver\n",
    "driver = webdriver.Chrome(service=driver_service, options=chrome_options)\n"
   ]
  },
  {
   "cell_type": "code",
   "execution_count": 5,
   "id": "bd88ef57",
   "metadata": {},
   "outputs": [],
   "source": [
    "# Open Jumia Tech Week page\n",
    "driver.get('https://www.jumia.co.ke/mlp-tech-week/')"
   ]
  },
  {
   "cell_type": "code",
   "execution_count": 6,
   "id": "d2a6de94",
   "metadata": {},
   "outputs": [
    {
     "data": {
      "text/plain": [
       "[<selenium.webdriver.remote.webelement.WebElement (session=\"4640bd637d2e35230da416ff874aed1c\", element=\"f.A99FD4AB01AC45CE3EB4255D3095165E.d.BA00F6CF1413B839778FC92DFCAA8EED.e.33\")>,\n",
       " <selenium.webdriver.remote.webelement.WebElement (session=\"4640bd637d2e35230da416ff874aed1c\", element=\"f.A99FD4AB01AC45CE3EB4255D3095165E.d.BA00F6CF1413B839778FC92DFCAA8EED.e.34\")>,\n",
       " <selenium.webdriver.remote.webelement.WebElement (session=\"4640bd637d2e35230da416ff874aed1c\", element=\"f.A99FD4AB01AC45CE3EB4255D3095165E.d.BA00F6CF1413B839778FC92DFCAA8EED.e.35\")>,\n",
       " <selenium.webdriver.remote.webelement.WebElement (session=\"4640bd637d2e35230da416ff874aed1c\", element=\"f.A99FD4AB01AC45CE3EB4255D3095165E.d.BA00F6CF1413B839778FC92DFCAA8EED.e.36\")>,\n",
       " <selenium.webdriver.remote.webelement.WebElement (session=\"4640bd637d2e35230da416ff874aed1c\", element=\"f.A99FD4AB01AC45CE3EB4255D3095165E.d.BA00F6CF1413B839778FC92DFCAA8EED.e.37\")>,\n",
       " <selenium.webdriver.remote.webelement.WebElement (session=\"4640bd637d2e35230da416ff874aed1c\", element=\"f.A99FD4AB01AC45CE3EB4255D3095165E.d.BA00F6CF1413B839778FC92DFCAA8EED.e.38\")>,\n",
       " <selenium.webdriver.remote.webelement.WebElement (session=\"4640bd637d2e35230da416ff874aed1c\", element=\"f.A99FD4AB01AC45CE3EB4255D3095165E.d.BA00F6CF1413B839778FC92DFCAA8EED.e.39\")>,\n",
       " <selenium.webdriver.remote.webelement.WebElement (session=\"4640bd637d2e35230da416ff874aed1c\", element=\"f.A99FD4AB01AC45CE3EB4255D3095165E.d.BA00F6CF1413B839778FC92DFCAA8EED.e.40\")>,\n",
       " <selenium.webdriver.remote.webelement.WebElement (session=\"4640bd637d2e35230da416ff874aed1c\", element=\"f.A99FD4AB01AC45CE3EB4255D3095165E.d.BA00F6CF1413B839778FC92DFCAA8EED.e.41\")>,\n",
       " <selenium.webdriver.remote.webelement.WebElement (session=\"4640bd637d2e35230da416ff874aed1c\", element=\"f.A99FD4AB01AC45CE3EB4255D3095165E.d.BA00F6CF1413B839778FC92DFCAA8EED.e.42\")>,\n",
       " <selenium.webdriver.remote.webelement.WebElement (session=\"4640bd637d2e35230da416ff874aed1c\", element=\"f.A99FD4AB01AC45CE3EB4255D3095165E.d.BA00F6CF1413B839778FC92DFCAA8EED.e.43\")>,\n",
       " <selenium.webdriver.remote.webelement.WebElement (session=\"4640bd637d2e35230da416ff874aed1c\", element=\"f.A99FD4AB01AC45CE3EB4255D3095165E.d.BA00F6CF1413B839778FC92DFCAA8EED.e.44\")>,\n",
       " <selenium.webdriver.remote.webelement.WebElement (session=\"4640bd637d2e35230da416ff874aed1c\", element=\"f.A99FD4AB01AC45CE3EB4255D3095165E.d.BA00F6CF1413B839778FC92DFCAA8EED.e.45\")>,\n",
       " <selenium.webdriver.remote.webelement.WebElement (session=\"4640bd637d2e35230da416ff874aed1c\", element=\"f.A99FD4AB01AC45CE3EB4255D3095165E.d.BA00F6CF1413B839778FC92DFCAA8EED.e.46\")>,\n",
       " <selenium.webdriver.remote.webelement.WebElement (session=\"4640bd637d2e35230da416ff874aed1c\", element=\"f.A99FD4AB01AC45CE3EB4255D3095165E.d.BA00F6CF1413B839778FC92DFCAA8EED.e.47\")>,\n",
       " <selenium.webdriver.remote.webelement.WebElement (session=\"4640bd637d2e35230da416ff874aed1c\", element=\"f.A99FD4AB01AC45CE3EB4255D3095165E.d.BA00F6CF1413B839778FC92DFCAA8EED.e.48\")>,\n",
       " <selenium.webdriver.remote.webelement.WebElement (session=\"4640bd637d2e35230da416ff874aed1c\", element=\"f.A99FD4AB01AC45CE3EB4255D3095165E.d.BA00F6CF1413B839778FC92DFCAA8EED.e.49\")>,\n",
       " <selenium.webdriver.remote.webelement.WebElement (session=\"4640bd637d2e35230da416ff874aed1c\", element=\"f.A99FD4AB01AC45CE3EB4255D3095165E.d.BA00F6CF1413B839778FC92DFCAA8EED.e.50\")>,\n",
       " <selenium.webdriver.remote.webelement.WebElement (session=\"4640bd637d2e35230da416ff874aed1c\", element=\"f.A99FD4AB01AC45CE3EB4255D3095165E.d.BA00F6CF1413B839778FC92DFCAA8EED.e.51\")>,\n",
       " <selenium.webdriver.remote.webelement.WebElement (session=\"4640bd637d2e35230da416ff874aed1c\", element=\"f.A99FD4AB01AC45CE3EB4255D3095165E.d.BA00F6CF1413B839778FC92DFCAA8EED.e.52\")>,\n",
       " <selenium.webdriver.remote.webelement.WebElement (session=\"4640bd637d2e35230da416ff874aed1c\", element=\"f.A99FD4AB01AC45CE3EB4255D3095165E.d.BA00F6CF1413B839778FC92DFCAA8EED.e.53\")>,\n",
       " <selenium.webdriver.remote.webelement.WebElement (session=\"4640bd637d2e35230da416ff874aed1c\", element=\"f.A99FD4AB01AC45CE3EB4255D3095165E.d.BA00F6CF1413B839778FC92DFCAA8EED.e.54\")>,\n",
       " <selenium.webdriver.remote.webelement.WebElement (session=\"4640bd637d2e35230da416ff874aed1c\", element=\"f.A99FD4AB01AC45CE3EB4255D3095165E.d.BA00F6CF1413B839778FC92DFCAA8EED.e.55\")>,\n",
       " <selenium.webdriver.remote.webelement.WebElement (session=\"4640bd637d2e35230da416ff874aed1c\", element=\"f.A99FD4AB01AC45CE3EB4255D3095165E.d.BA00F6CF1413B839778FC92DFCAA8EED.e.56\")>,\n",
       " <selenium.webdriver.remote.webelement.WebElement (session=\"4640bd637d2e35230da416ff874aed1c\", element=\"f.A99FD4AB01AC45CE3EB4255D3095165E.d.BA00F6CF1413B839778FC92DFCAA8EED.e.57\")>,\n",
       " <selenium.webdriver.remote.webelement.WebElement (session=\"4640bd637d2e35230da416ff874aed1c\", element=\"f.A99FD4AB01AC45CE3EB4255D3095165E.d.BA00F6CF1413B839778FC92DFCAA8EED.e.58\")>,\n",
       " <selenium.webdriver.remote.webelement.WebElement (session=\"4640bd637d2e35230da416ff874aed1c\", element=\"f.A99FD4AB01AC45CE3EB4255D3095165E.d.BA00F6CF1413B839778FC92DFCAA8EED.e.59\")>,\n",
       " <selenium.webdriver.remote.webelement.WebElement (session=\"4640bd637d2e35230da416ff874aed1c\", element=\"f.A99FD4AB01AC45CE3EB4255D3095165E.d.BA00F6CF1413B839778FC92DFCAA8EED.e.60\")>,\n",
       " <selenium.webdriver.remote.webelement.WebElement (session=\"4640bd637d2e35230da416ff874aed1c\", element=\"f.A99FD4AB01AC45CE3EB4255D3095165E.d.BA00F6CF1413B839778FC92DFCAA8EED.e.61\")>,\n",
       " <selenium.webdriver.remote.webelement.WebElement (session=\"4640bd637d2e35230da416ff874aed1c\", element=\"f.A99FD4AB01AC45CE3EB4255D3095165E.d.BA00F6CF1413B839778FC92DFCAA8EED.e.62\")>,\n",
       " <selenium.webdriver.remote.webelement.WebElement (session=\"4640bd637d2e35230da416ff874aed1c\", element=\"f.A99FD4AB01AC45CE3EB4255D3095165E.d.BA00F6CF1413B839778FC92DFCAA8EED.e.63\")>,\n",
       " <selenium.webdriver.remote.webelement.WebElement (session=\"4640bd637d2e35230da416ff874aed1c\", element=\"f.A99FD4AB01AC45CE3EB4255D3095165E.d.BA00F6CF1413B839778FC92DFCAA8EED.e.64\")>,\n",
       " <selenium.webdriver.remote.webelement.WebElement (session=\"4640bd637d2e35230da416ff874aed1c\", element=\"f.A99FD4AB01AC45CE3EB4255D3095165E.d.BA00F6CF1413B839778FC92DFCAA8EED.e.65\")>,\n",
       " <selenium.webdriver.remote.webelement.WebElement (session=\"4640bd637d2e35230da416ff874aed1c\", element=\"f.A99FD4AB01AC45CE3EB4255D3095165E.d.BA00F6CF1413B839778FC92DFCAA8EED.e.66\")>,\n",
       " <selenium.webdriver.remote.webelement.WebElement (session=\"4640bd637d2e35230da416ff874aed1c\", element=\"f.A99FD4AB01AC45CE3EB4255D3095165E.d.BA00F6CF1413B839778FC92DFCAA8EED.e.67\")>,\n",
       " <selenium.webdriver.remote.webelement.WebElement (session=\"4640bd637d2e35230da416ff874aed1c\", element=\"f.A99FD4AB01AC45CE3EB4255D3095165E.d.BA00F6CF1413B839778FC92DFCAA8EED.e.68\")>,\n",
       " <selenium.webdriver.remote.webelement.WebElement (session=\"4640bd637d2e35230da416ff874aed1c\", element=\"f.A99FD4AB01AC45CE3EB4255D3095165E.d.BA00F6CF1413B839778FC92DFCAA8EED.e.69\")>,\n",
       " <selenium.webdriver.remote.webelement.WebElement (session=\"4640bd637d2e35230da416ff874aed1c\", element=\"f.A99FD4AB01AC45CE3EB4255D3095165E.d.BA00F6CF1413B839778FC92DFCAA8EED.e.70\")>,\n",
       " <selenium.webdriver.remote.webelement.WebElement (session=\"4640bd637d2e35230da416ff874aed1c\", element=\"f.A99FD4AB01AC45CE3EB4255D3095165E.d.BA00F6CF1413B839778FC92DFCAA8EED.e.71\")>,\n",
       " <selenium.webdriver.remote.webelement.WebElement (session=\"4640bd637d2e35230da416ff874aed1c\", element=\"f.A99FD4AB01AC45CE3EB4255D3095165E.d.BA00F6CF1413B839778FC92DFCAA8EED.e.72\")>]"
      ]
     },
     "execution_count": 6,
     "metadata": {},
     "output_type": "execute_result"
    }
   ],
   "source": [
    "# Wait for products to load\n",
    "wait = WebDriverWait(driver, 10)\n",
    "wait.until(EC.presence_of_all_elements_located((By.CSS_SELECTOR, 'article.prd._fb.col.c-prd')))"
   ]
  },
  {
   "cell_type": "code",
   "execution_count": 7,
   "id": "92c63ec1",
   "metadata": {},
   "outputs": [],
   "source": [
    "# Extract page source and parse with BeautifulSoup\n",
    "soup = BeautifulSoup(driver.page_source, 'html.parser')"
   ]
  },
  {
   "cell_type": "code",
   "execution_count": 8,
   "id": "b5742484",
   "metadata": {},
   "outputs": [],
   "source": [
    "# Close the driver\n",
    "driver.quit()"
   ]
  },
  {
   "cell_type": "code",
   "execution_count": 9,
   "id": "5fddee55",
   "metadata": {},
   "outputs": [],
   "source": [
    "# Extract product details\n",
    "products = soup.find_all('article', class_='prd _fb col c-prd')\n",
    "data = []"
   ]
  },
  {
   "cell_type": "code",
   "execution_count": 10,
   "id": "8e0d9fc7",
   "metadata": {},
   "outputs": [],
   "source": [
    "for product in products:\n",
    "    try:\n",
    "        title = product.find('h3', class_='name').text.strip()\n",
    "    except:\n",
    "        title = None\n",
    "\n",
    "    try:\n",
    "        price = product.find('div', class_='prc').text.strip()\n",
    "    except:\n",
    "        price = None\n",
    "\n",
    "    try:\n",
    "        old_price = product.find('div', class_='old').text.strip() if product.find('div', class_='old') else None\n",
    "    except:\n",
    "        old_price = None\n",
    "\n",
    "    try:\n",
    "        discount = product.find('div', class_='bdg _dsct _sm').text.strip() if product.find('div', class_='bdg _dsct _sm') else None\n",
    "    except:\n",
    "        discount = None\n",
    "\n",
    "    try:\n",
    "        rating = product.find('div', class_='stars _s').text.strip() if product.find('div', class_='stars _s') else None\n",
    "    except:\n",
    "        rating = None\n",
    "\n",
    "    product_data = {\n",
    "        'title': title,\n",
    "        'price': price,\n",
    "        'old_price': old_price,\n",
    "        'discount': discount,\n",
    "        'rating': rating\n",
    "    }\n",
    "    data.append(product_data)\n"
   ]
  },
  {
   "cell_type": "code",
   "execution_count": 11,
   "id": "6a7337cf",
   "metadata": {},
   "outputs": [
    {
     "name": "stdout",
     "output_type": "stream",
     "text": [
      "                                                title       price  \\\n",
      "0   AILYONS HD-199A Electric Dry Iron Box Silver &...     KSh 929   \n",
      "1   RichRipple LED Display Bluetooth Headsets 9D S...     KSh 519   \n",
      "2   Vitron HTC4388FS - 43\" Smart Android Frameless...  KSh 19,799   \n",
      "3   AILYONS FK-0310 Stainless Steel 2.2L Electric ...     KSh 902   \n",
      "4   Hikers 32'' Inch Frameless Android Smart HD LE...  KSh 11,328   \n",
      "5   RichRipple Pro3 Bluetooth Headsets Wireless Po...     KSh 499   \n",
      "6                      Starlink Standard Actuated Kit  KSh 45,500   \n",
      "7   AILYONS TYB-205 Blender 2In1 With GrinderMachi...   KSh 1,699   \n",
      "8   Vitron HTC3200S 32\" Smart Frameless Android LE...  KSh 12,180   \n",
      "9   AILYONS LST3208W 32\" Smart Android FHD Framele...  KSh 11,499   \n",
      "10  AILYONS FK-0306 Stainless Steel 1.8L Electric ...     KSh 738   \n",
      "11  Samsung GALAXY A15, 6.5'' HD+, 4GB RAM + 128GB...  KSh 15,678   \n",
      "12  Lyons FY-1731 Blender 2 In 1 With Grinder Mach...   KSh 1,599   \n",
      "13  RichRipple Rechargeable 2.4G Wireless Slient M...     KSh 406   \n",
      "14  Vitron HTC3200S,32\"Inch Frameless Smart Androi...  KSh 13,995   \n",
      "15  Vitron V527 - 2.1 CH Multimedia Speaker, BT/US...   KSh 5,780   \n",
      "16  AILYONS GS014-1, 2 Burner Glass Top & Infrared...   KSh 2,298   \n",
      "17  XIAOMI Redmi 13C , 6.74\"  8GB RAM + 256GB ROM,...  KSh 16,450   \n",
      "18  RichRipple Pro3 Bluetooth Headsets Wireless Po...     KSh 499   \n",
      "19  RichRipple Pro6 Bluetooth Headsets Wireless Po...     KSh 557   \n",
      "20  AILYONS FK-0308 Stainless Steel 2.2L Electric ...     KSh 902   \n",
      "21  Ace Elec ACEELEC F9 Wireless Fingerprint Touch...     KSh 390   \n",
      "22  RichRipple Pro3 Bluetooth Headsets Wireless Po...     KSh 492   \n",
      "23        Stereo F9 Bluetooth Earphone  Power Headset     KSh 510   \n",
      "24  XIAOMI Redmi 13C, 6.71\"(4GB RAM+128GB Storage)...  KSh 13,349   \n",
      "25  Itel ISW-O11 Waterproof Native Storm  Smart Watch   KSh 1,550   \n",
      "26  TWS Bluetooth Earphones Sports Wireless Headph...     KSh 420   \n",
      "27  Amaze Fridge/Freezer Guard-UnderVoltage&Surge ...     KSh 599   \n",
      "28    14\"-42\" TV Flat Panel Wall Bracket Holder Black     KSh 245   \n",
      "29  Samsung Galaxy A15, 6.5'' Display, 4GB RAM + 1...  KSh 15,499   \n",
      "30      Hikers 32'' Digital Frameless HD LED TV-Black  KSh 10,259   \n",
      "31  Infinix HOT 40i,5000mah,(4GB RAM+4GB RAM)128GB...  KSh 13,199   \n",
      "32  Vitron VB-Y44 - 2in1 Blender - 1.5L - 350W - W...   KSh 1,820   \n",
      "33  Ace Elec ACEELEC F9 Wireless Fingerprint Touch...     KSh 380   \n",
      "34  Samsung Galaxy A05, 6.7\", 64GB + 4GB (Dual SIM...  KSh 11,901   \n",
      "35  AILYONS SB501 2.1CH Sound Bar SubWoofer With B...   KSh 4,569   \n",
      "36  Power King Extension Cable With 6 AC Power Out...     KSh 480   \n",
      "37  Tecno Spark 20, 6.6'' HD+, UP to 8GB RAM + 128...  KSh 14,395   \n",
      "38  Wireless Earphones Bluetooth 5.3 Finger Touch ...     KSh 650   \n",
      "39               LED 2.4G Rechargeable Wireless Mouse     KSh 475   \n",
      "\n",
      "      old_price discount        rating  \n",
      "0     KSh 1,399      34%  3.8 out of 5  \n",
      "1       KSh 920      44%  3.7 out of 5  \n",
      "2    KSh 28,599      31%  3.9 out of 5  \n",
      "3     KSh 1,599      44%  3.9 out of 5  \n",
      "4    KSh 20,168      44%    4 out of 5  \n",
      "5       KSh 754      34%  4.1 out of 5  \n",
      "6   KSh 100,000      55%  4.8 out of 5  \n",
      "7     KSh 2,599      35%  4.1 out of 5  \n",
      "8    KSh 18,069      33%    4 out of 5  \n",
      "9    KSh 18,999      39%  4.1 out of 5  \n",
      "10    KSh 1,399      47%    4 out of 5  \n",
      "11   KSh 29,999      48%  4.2 out of 5  \n",
      "12    KSh 2,599      38%    4 out of 5  \n",
      "13      KSh 734      45%  4.4 out of 5  \n",
      "14   KSh 20,000      30%  4.2 out of 5  \n",
      "15    KSh 7,599      24%    4 out of 5  \n",
      "16    KSh 3,299      30%  4.1 out of 5  \n",
      "17   KSh 30,999      47%  4.2 out of 5  \n",
      "18      KSh 826      40%    4 out of 5  \n",
      "19    KSh 1,009      45%  3.9 out of 5  \n",
      "20    KSh 1,599      44%  4.1 out of 5  \n",
      "21      KSh 700      44%  3.8 out of 5  \n",
      "22      KSh 826      40%  4.2 out of 5  \n",
      "23      KSh 932      45%  3.8 out of 5  \n",
      "24   KSh 13,990       5%  4.3 out of 5  \n",
      "25    KSh 2,200      30%  4.2 out of 5  \n",
      "26      KSh 800      48%  3.9 out of 5  \n",
      "27    KSh 1,000      40%  4.2 out of 5  \n",
      "28      KSh 450      46%  4.1 out of 5  \n",
      "29   KSh 29,999      48%  4.4 out of 5  \n",
      "30   KSh 15,950      36%  3.9 out of 5  \n",
      "31   KSh 20,000      34%  4.2 out of 5  \n",
      "32    KSh 2,999      39%  4.1 out of 5  \n",
      "33      KSh 700      46%  3.9 out of 5  \n",
      "34   KSh 13,000       8%  3.9 out of 5  \n",
      "35    KSh 8,999      49%  3.8 out of 5  \n",
      "36      KSh 550      13%    4 out of 5  \n",
      "37   KSh 25,999      45%  4.2 out of 5  \n",
      "38    KSh 1,249      48%  3.8 out of 5  \n",
      "39      KSh 931      49%  4.5 out of 5  \n"
     ]
    }
   ],
   "source": [
    "# Convert to DataFrame and save to CSV\n",
    "df = pd.DataFrame(data)\n",
    "df.to_csv('jumia_techweek_products.csv', index=False)\n",
    "\n",
    "print(df)"
   ]
  }
 ],
 "metadata": {
  "kernelspec": {
   "display_name": "Python 3 (ipykernel)",
   "language": "python",
   "name": "python3"
  },
  "language_info": {
   "codemirror_mode": {
    "name": "ipython",
    "version": 3
   },
   "file_extension": ".py",
   "mimetype": "text/x-python",
   "name": "python",
   "nbconvert_exporter": "python",
   "pygments_lexer": "ipython3",
   "version": "3.10.9"
  }
 },
 "nbformat": 4,
 "nbformat_minor": 5
}
