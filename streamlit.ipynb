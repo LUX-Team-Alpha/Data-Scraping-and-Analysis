{
 "cells": [
  {
   "cell_type": "code",
   "execution_count": 2,
   "id": "1ebf8a07",
   "metadata": {},
   "outputs": [
    {
     "name": "stdout",
     "output_type": "stream",
     "text": [
      "Collecting streamlit\n",
      "  Downloading streamlit-1.36.0-py2.py3-none-any.whl.metadata (8.5 kB)\n",
      "Collecting altair<6,>=4.0 (from streamlit)\n",
      "  Downloading altair-5.3.0-py3-none-any.whl.metadata (9.2 kB)\n",
      "Collecting blinker<2,>=1.0.0 (from streamlit)\n",
      "  Downloading blinker-1.8.2-py3-none-any.whl.metadata (1.6 kB)\n",
      "Requirement already satisfied: cachetools<6,>=4.0 in c:\\users\\user\\anaconda3\\lib\\site-packages (from streamlit) (5.4.0)\n",
      "Requirement already satisfied: click<9,>=7.0 in c:\\users\\user\\anaconda3\\lib\\site-packages (from streamlit) (8.0.4)\n",
      "Requirement already satisfied: numpy<3,>=1.20 in c:\\users\\user\\anaconda3\\lib\\site-packages (from streamlit) (1.23.5)\n",
      "Requirement already satisfied: packaging<25,>=20 in c:\\users\\user\\anaconda3\\lib\\site-packages (from streamlit) (22.0)\n",
      "Requirement already satisfied: pandas<3,>=1.3.0 in c:\\users\\user\\anaconda3\\lib\\site-packages (from streamlit) (1.5.3)\n",
      "Requirement already satisfied: pillow<11,>=7.1.0 in c:\\users\\user\\anaconda3\\lib\\site-packages (from streamlit) (9.4.0)\n",
      "Requirement already satisfied: protobuf<6,>=3.20 in c:\\users\\user\\anaconda3\\lib\\site-packages (from streamlit) (5.27.2)\n",
      "Requirement already satisfied: pyarrow>=7.0 in c:\\users\\user\\anaconda3\\lib\\site-packages (from streamlit) (15.0.0)\n",
      "Requirement already satisfied: requests<3,>=2.27 in c:\\users\\user\\anaconda3\\lib\\site-packages (from streamlit) (2.28.1)\n",
      "Collecting rich<14,>=10.14.0 (from streamlit)\n",
      "  Downloading rich-13.7.1-py3-none-any.whl.metadata (18 kB)\n",
      "Collecting tenacity<9,>=8.1.0 (from streamlit)\n",
      "  Downloading tenacity-8.5.0-py3-none-any.whl.metadata (1.2 kB)\n",
      "Requirement already satisfied: toml<2,>=0.10.1 in c:\\users\\user\\anaconda3\\lib\\site-packages (from streamlit) (0.10.2)\n",
      "Requirement already satisfied: typing-extensions<5,>=4.3.0 in c:\\users\\user\\anaconda3\\lib\\site-packages (from streamlit) (4.9.0)\n",
      "Collecting gitpython!=3.1.19,<4,>=3.0.7 (from streamlit)\n",
      "  Downloading GitPython-3.1.43-py3-none-any.whl.metadata (13 kB)\n",
      "Collecting pydeck<1,>=0.8.0b4 (from streamlit)\n",
      "  Downloading pydeck-0.9.1-py2.py3-none-any.whl.metadata (4.1 kB)\n",
      "Requirement already satisfied: tornado<7,>=6.0.3 in c:\\users\\user\\anaconda3\\lib\\site-packages (from streamlit) (6.1)\n",
      "Requirement already satisfied: watchdog<5,>=2.1.5 in c:\\users\\user\\anaconda3\\lib\\site-packages (from streamlit) (2.1.6)\n",
      "Requirement already satisfied: jinja2 in c:\\users\\user\\anaconda3\\lib\\site-packages (from altair<6,>=4.0->streamlit) (3.1.2)\n",
      "Requirement already satisfied: jsonschema>=3.0 in c:\\users\\user\\anaconda3\\lib\\site-packages (from altair<6,>=4.0->streamlit) (4.17.3)\n",
      "Requirement already satisfied: toolz in c:\\users\\user\\anaconda3\\lib\\site-packages (from altair<6,>=4.0->streamlit) (0.12.0)\n",
      "Requirement already satisfied: colorama in c:\\users\\user\\anaconda3\\lib\\site-packages (from click<9,>=7.0->streamlit) (0.4.6)\n",
      "Collecting gitdb<5,>=4.0.1 (from gitpython!=3.1.19,<4,>=3.0.7->streamlit)\n",
      "  Downloading gitdb-4.0.11-py3-none-any.whl.metadata (1.2 kB)\n",
      "Requirement already satisfied: python-dateutil>=2.8.1 in c:\\users\\user\\anaconda3\\lib\\site-packages (from pandas<3,>=1.3.0->streamlit) (2.8.2)\n",
      "Requirement already satisfied: pytz>=2020.1 in c:\\users\\user\\anaconda3\\lib\\site-packages (from pandas<3,>=1.3.0->streamlit) (2022.7)\n",
      "Requirement already satisfied: charset-normalizer<3,>=2 in c:\\users\\user\\anaconda3\\lib\\site-packages (from requests<3,>=2.27->streamlit) (2.0.4)\n",
      "Requirement already satisfied: idna<4,>=2.5 in c:\\users\\user\\anaconda3\\lib\\site-packages (from requests<3,>=2.27->streamlit) (3.4)\n",
      "Requirement already satisfied: urllib3<1.27,>=1.21.1 in c:\\users\\user\\anaconda3\\lib\\site-packages (from requests<3,>=2.27->streamlit) (1.26.14)\n",
      "Requirement already satisfied: certifi>=2017.4.17 in c:\\users\\user\\anaconda3\\lib\\site-packages (from requests<3,>=2.27->streamlit) (2022.12.7)\n",
      "Collecting markdown-it-py>=2.2.0 (from rich<14,>=10.14.0->streamlit)\n",
      "  Downloading markdown_it_py-3.0.0-py3-none-any.whl.metadata (6.9 kB)\n",
      "Collecting pygments<3.0.0,>=2.13.0 (from rich<14,>=10.14.0->streamlit)\n",
      "  Downloading pygments-2.18.0-py3-none-any.whl.metadata (2.5 kB)\n",
      "Collecting smmap<6,>=3.0.1 (from gitdb<5,>=4.0.1->gitpython!=3.1.19,<4,>=3.0.7->streamlit)\n",
      "  Downloading smmap-5.0.1-py3-none-any.whl.metadata (4.3 kB)\n",
      "Requirement already satisfied: MarkupSafe>=2.0 in c:\\users\\user\\anaconda3\\lib\\site-packages (from jinja2->altair<6,>=4.0->streamlit) (2.1.1)\n",
      "Requirement already satisfied: attrs>=17.4.0 in c:\\users\\user\\anaconda3\\lib\\site-packages (from jsonschema>=3.0->altair<6,>=4.0->streamlit) (23.2.0)\n",
      "Requirement already satisfied: pyrsistent!=0.17.0,!=0.17.1,!=0.17.2,>=0.14.0 in c:\\users\\user\\anaconda3\\lib\\site-packages (from jsonschema>=3.0->altair<6,>=4.0->streamlit) (0.18.0)\n",
      "Collecting mdurl~=0.1 (from markdown-it-py>=2.2.0->rich<14,>=10.14.0->streamlit)\n",
      "  Downloading mdurl-0.1.2-py3-none-any.whl.metadata (1.6 kB)\n",
      "Requirement already satisfied: six>=1.5 in c:\\users\\user\\anaconda3\\lib\\site-packages (from python-dateutil>=2.8.1->pandas<3,>=1.3.0->streamlit) (1.16.0)\n",
      "Downloading streamlit-1.36.0-py2.py3-none-any.whl (8.6 MB)\n",
      "   ---------------------------------------- 0.0/8.6 MB ? eta -:--:--\n",
      "   ---------------------------------------- 0.1/8.6 MB 1.3 MB/s eta 0:00:07\n",
      "   ---------------------------------------- 0.1/8.6 MB 1.3 MB/s eta 0:00:07\n",
      "    --------------------------------------- 0.1/8.6 MB 901.1 kB/s eta 0:00:10\n",
      "    --------------------------------------- 0.2/8.6 MB 958.4 kB/s eta 0:00:09\n",
      "   - -------------------------------------- 0.3/8.6 MB 923.9 kB/s eta 0:00:10\n",
      "   - -------------------------------------- 0.3/8.6 MB 948.8 kB/s eta 0:00:09\n",
      "   - -------------------------------------- 0.4/8.6 MB 916.6 kB/s eta 0:00:09\n",
      "   - -------------------------------------- 0.4/8.6 MB 933.2 kB/s eta 0:00:09\n",
      "   -- ------------------------------------- 0.4/8.6 MB 867.4 kB/s eta 0:00:10\n",
      "   --- ------------------------------------ 0.6/8.6 MB 1.1 MB/s eta 0:00:08\n",
      "   --- ------------------------------------ 0.7/8.6 MB 1.2 MB/s eta 0:00:07\n",
      "   ---- ----------------------------------- 0.9/8.6 MB 1.3 MB/s eta 0:00:07\n",
      "   ----- ---------------------------------- 1.1/8.6 MB 1.3 MB/s eta 0:00:06\n",
      "   ----- ---------------------------------- 1.1/8.6 MB 1.3 MB/s eta 0:00:06\n",
      "   ----- ---------------------------------- 1.2/8.6 MB 1.3 MB/s eta 0:00:06\n",
      "   ------ --------------------------------- 1.3/8.6 MB 1.4 MB/s eta 0:00:06\n",
      "   ------ --------------------------------- 1.4/8.6 MB 1.4 MB/s eta 0:00:06\n",
      "   ------ --------------------------------- 1.4/8.6 MB 1.4 MB/s eta 0:00:06\n",
      "   ------- -------------------------------- 1.7/8.6 MB 1.5 MB/s eta 0:00:05\n",
      "   -------- ------------------------------- 1.8/8.6 MB 1.5 MB/s eta 0:00:05\n",
      "   ---------- ----------------------------- 2.2/8.6 MB 1.7 MB/s eta 0:00:04\n",
      "   ------------ --------------------------- 2.7/8.6 MB 1.9 MB/s eta 0:00:04\n",
      "   ------------- -------------------------- 2.8/8.6 MB 1.9 MB/s eta 0:00:04\n",
      "   -------------- ------------------------- 3.1/8.6 MB 2.0 MB/s eta 0:00:03\n",
      "   -------------- ------------------------- 3.1/8.6 MB 2.0 MB/s eta 0:00:03\n",
      "   --------------- ------------------------ 3.4/8.6 MB 2.0 MB/s eta 0:00:03\n",
      "   ---------------- ----------------------- 3.5/8.6 MB 2.1 MB/s eta 0:00:03\n",
      "   ----------------- ---------------------- 3.7/8.6 MB 2.1 MB/s eta 0:00:03\n",
      "   ----------------- ---------------------- 3.8/8.6 MB 2.1 MB/s eta 0:00:03\n",
      "   ------------------ --------------------- 4.1/8.6 MB 2.2 MB/s eta 0:00:03\n",
      "   ------------------ --------------------- 4.1/8.6 MB 2.2 MB/s eta 0:00:03\n",
      "   ------------------- -------------------- 4.2/8.6 MB 2.1 MB/s eta 0:00:03\n",
      "   -------------------- ------------------- 4.4/8.6 MB 2.2 MB/s eta 0:00:02\n",
      "   --------------------- ------------------ 4.6/8.6 MB 2.2 MB/s eta 0:00:02\n",
      "   ---------------------- ----------------- 4.8/8.6 MB 2.3 MB/s eta 0:00:02\n",
      "   ----------------------- ---------------- 5.0/8.6 MB 2.3 MB/s eta 0:00:02\n",
      "   ------------------------ --------------- 5.3/8.6 MB 2.3 MB/s eta 0:00:02\n",
      "   ------------------------- -------------- 5.5/8.6 MB 2.4 MB/s eta 0:00:02\n",
      "   -------------------------- ------------- 5.6/8.6 MB 2.3 MB/s eta 0:00:02\n",
      "   -------------------------- ------------- 5.6/8.6 MB 2.3 MB/s eta 0:00:02\n",
      "   -------------------------- ------------- 5.7/8.6 MB 2.3 MB/s eta 0:00:02\n",
      "   -------------------------- ------------- 5.7/8.6 MB 2.3 MB/s eta 0:00:02\n",
      "   -------------------------- ------------- 5.7/8.6 MB 2.3 MB/s eta 0:00:02\n",
      "   --------------------------- ------------ 5.9/8.6 MB 2.2 MB/s eta 0:00:02\n",
      "   ----------------------------- ---------- 6.2/8.6 MB 2.3 MB/s eta 0:00:02\n",
      "   ----------------------------- ---------- 6.3/8.6 MB 2.3 MB/s eta 0:00:02\n",
      "   ----------------------------- ---------- 6.3/8.6 MB 2.3 MB/s eta 0:00:02\n",
      "   ----------------------------- ---------- 6.4/8.6 MB 2.2 MB/s eta 0:00:02\n",
      "   -------------------------------- ------- 7.0/8.6 MB 2.4 MB/s eta 0:00:01\n",
      "   --------------------------------- ------ 7.2/8.6 MB 2.4 MB/s eta 0:00:01\n",
      "   ---------------------------------- ----- 7.5/8.6 MB 2.4 MB/s eta 0:00:01\n",
      "   ----------------------------------- ---- 7.6/8.6 MB 2.4 MB/s eta 0:00:01\n",
      "   ----------------------------------- ---- 7.7/8.6 MB 2.4 MB/s eta 0:00:01\n",
      "   ------------------------------------ --- 7.8/8.6 MB 2.4 MB/s eta 0:00:01\n",
      "   ------------------------------------ --- 7.9/8.6 MB 2.4 MB/s eta 0:00:01\n",
      "   ------------------------------------- -- 8.0/8.6 MB 2.4 MB/s eta 0:00:01\n",
      "   ------------------------------------- -- 8.1/8.6 MB 2.4 MB/s eta 0:00:01\n",
      "   -------------------------------------- - 8.2/8.6 MB 2.4 MB/s eta 0:00:01\n",
      "   -------------------------------------- - 8.2/8.6 MB 2.4 MB/s eta 0:00:01\n",
      "   -------------------------------------- - 8.2/8.6 MB 2.4 MB/s eta 0:00:01\n",
      "   -------------------------------------- - 8.2/8.6 MB 2.4 MB/s eta 0:00:01\n",
      "   ---------------------------------------  8.4/8.6 MB 2.3 MB/s eta 0:00:01\n",
      "   ---------------------------------------  8.6/8.6 MB 2.4 MB/s eta 0:00:01\n",
      "   ---------------------------------------- 8.6/8.6 MB 2.3 MB/s eta 0:00:00\n",
      "Downloading altair-5.3.0-py3-none-any.whl (857 kB)\n",
      "   ---------------------------------------- 0.0/857.8 kB ? eta -:--:--\n",
      "   ------ --------------------------------- 143.4/857.8 kB 8.9 MB/s eta 0:00:01\n",
      "   ----------------- ---------------------- 368.6/857.8 kB 3.8 MB/s eta 0:00:01\n",
      "   --------------------- ------------------ 450.6/857.8 kB 3.1 MB/s eta 0:00:01\n",
      "   ---------------------------------------- 857.8/857.8 kB 3.0 MB/s eta 0:00:00\n",
      "Downloading blinker-1.8.2-py3-none-any.whl (9.5 kB)\n",
      "Downloading GitPython-3.1.43-py3-none-any.whl (207 kB)\n",
      "   ---------------------------------------- 0.0/207.3 kB ? eta -:--:--\n",
      "   ---------------------------------------  204.8/207.3 kB 6.3 MB/s eta 0:00:01\n",
      "   ---------------------------------------- 207.3/207.3 kB 3.2 MB/s eta 0:00:00\n",
      "Downloading pydeck-0.9.1-py2.py3-none-any.whl (6.9 MB)\n",
      "   ---------------------------------------- 0.0/6.9 MB ? eta -:--:--\n",
      "   - -------------------------------------- 0.3/6.9 MB 5.9 MB/s eta 0:00:02\n",
      "   -- ------------------------------------- 0.5/6.9 MB 4.3 MB/s eta 0:00:02\n",
      "   --- ------------------------------------ 0.7/6.9 MB 4.3 MB/s eta 0:00:02\n",
      "   ---- ----------------------------------- 0.8/6.9 MB 4.4 MB/s eta 0:00:02\n",
      "   ---- ----------------------------------- 0.8/6.9 MB 4.4 MB/s eta 0:00:02\n",
      "   ------- -------------------------------- 1.4/6.9 MB 4.4 MB/s eta 0:00:02\n",
      "   --------- ------------------------------ 1.6/6.9 MB 4.3 MB/s eta 0:00:02\n",
      "   ---------- ----------------------------- 1.7/6.9 MB 4.1 MB/s eta 0:00:02\n",
      "   ----------- ---------------------------- 2.0/6.9 MB 4.1 MB/s eta 0:00:02\n",
      "   ------------ --------------------------- 2.1/6.9 MB 4.0 MB/s eta 0:00:02\n",
      "   ------------ --------------------------- 2.1/6.9 MB 4.0 MB/s eta 0:00:02\n",
      "   -------------- ------------------------- 2.4/6.9 MB 3.9 MB/s eta 0:00:02\n",
      "   --------------- ------------------------ 2.7/6.9 MB 3.9 MB/s eta 0:00:02\n",
      "   ---------------- ----------------------- 2.8/6.9 MB 3.8 MB/s eta 0:00:02\n",
      "   ---------------- ----------------------- 2.9/6.9 MB 3.7 MB/s eta 0:00:02\n",
      "   ---------------- ----------------------- 2.9/6.9 MB 3.7 MB/s eta 0:00:02\n",
      "   ----------------- ---------------------- 3.1/6.9 MB 3.3 MB/s eta 0:00:02\n",
      "   ------------------- -------------------- 3.3/6.9 MB 3.2 MB/s eta 0:00:02\n",
      "   ------------------- -------------------- 3.4/6.9 MB 3.2 MB/s eta 0:00:02\n",
      "   ------------------- -------------------- 3.4/6.9 MB 3.2 MB/s eta 0:00:02\n",
      "   ------------------- -------------------- 3.4/6.9 MB 2.9 MB/s eta 0:00:02\n",
      "   -------------------- ------------------- 3.5/6.9 MB 2.8 MB/s eta 0:00:02\n",
      "   -------------------- ------------------- 3.6/6.9 MB 2.7 MB/s eta 0:00:02\n",
      "   --------------------- ------------------ 3.6/6.9 MB 2.7 MB/s eta 0:00:02\n",
      "   --------------------- ------------------ 3.6/6.9 MB 2.6 MB/s eta 0:00:02\n",
      "   --------------------- ------------------ 3.6/6.9 MB 2.6 MB/s eta 0:00:02\n",
      "   --------------------- ------------------ 3.7/6.9 MB 2.4 MB/s eta 0:00:02\n",
      "   ---------------------- ----------------- 3.8/6.9 MB 2.4 MB/s eta 0:00:02\n",
      "   ---------------------- ----------------- 3.9/6.9 MB 2.3 MB/s eta 0:00:02\n",
      "   ----------------------- ---------------- 4.0/6.9 MB 2.3 MB/s eta 0:00:02\n",
      "   ----------------------- ---------------- 4.1/6.9 MB 2.3 MB/s eta 0:00:02\n",
      "   ----------------------- ---------------- 4.1/6.9 MB 2.3 MB/s eta 0:00:02\n",
      "   ------------------------ --------------- 4.2/6.9 MB 2.2 MB/s eta 0:00:02\n",
      "   ------------------------- -------------- 4.4/6.9 MB 2.2 MB/s eta 0:00:02\n",
      "   ------------------------- -------------- 4.4/6.9 MB 2.2 MB/s eta 0:00:02\n",
      "   -------------------------- ------------- 4.5/6.9 MB 2.2 MB/s eta 0:00:02\n",
      "   -------------------------- ------------- 4.5/6.9 MB 2.2 MB/s eta 0:00:02\n",
      "   -------------------------- ------------- 4.6/6.9 MB 2.1 MB/s eta 0:00:02\n",
      "   -------------------------- ------------- 4.6/6.9 MB 2.1 MB/s eta 0:00:02\n",
      "   --------------------------- ------------ 4.7/6.9 MB 2.1 MB/s eta 0:00:02\n",
      "   --------------------------- ------------ 4.8/6.9 MB 2.0 MB/s eta 0:00:02\n",
      "   ---------------------------- ----------- 4.9/6.9 MB 2.0 MB/s eta 0:00:01\n",
      "   ---------------------------- ----------- 4.9/6.9 MB 2.0 MB/s eta 0:00:01\n",
      "   ----------------------------- ---------- 5.1/6.9 MB 2.0 MB/s eta 0:00:01\n",
      "   ----------------------------- ---------- 5.2/6.9 MB 2.0 MB/s eta 0:00:01\n",
      "   ------------------------------ --------- 5.3/6.9 MB 2.0 MB/s eta 0:00:01\n",
      "   ------------------------------- -------- 5.4/6.9 MB 2.0 MB/s eta 0:00:01\n",
      "   ------------------------------- -------- 5.5/6.9 MB 2.0 MB/s eta 0:00:01\n",
      "   --------------------------------- ------ 5.8/6.9 MB 2.0 MB/s eta 0:00:01\n",
      "   --------------------------------- ------ 5.9/6.9 MB 2.0 MB/s eta 0:00:01\n",
      "   ---------------------------------- ----- 6.0/6.9 MB 2.0 MB/s eta 0:00:01\n",
      "   ----------------------------------- ---- 6.1/6.9 MB 2.0 MB/s eta 0:00:01\n",
      "   ----------------------------------- ---- 6.2/6.9 MB 2.0 MB/s eta 0:00:01\n",
      "   ------------------------------------ --- 6.3/6.9 MB 2.0 MB/s eta 0:00:01\n",
      "   ------------------------------------- -- 6.4/6.9 MB 2.0 MB/s eta 0:00:01\n",
      "   ------------------------------------- -- 6.4/6.9 MB 2.0 MB/s eta 0:00:01\n",
      "   ------------------------------------- -- 6.5/6.9 MB 1.9 MB/s eta 0:00:01\n",
      "   -------------------------------------- - 6.6/6.9 MB 1.9 MB/s eta 0:00:01\n",
      "   -------------------------------------- - 6.7/6.9 MB 1.9 MB/s eta 0:00:01\n",
      "   ---------------------------------------  6.8/6.9 MB 1.9 MB/s eta 0:00:01\n",
      "   ---------------------------------------  6.8/6.9 MB 1.9 MB/s eta 0:00:01\n",
      "   ---------------------------------------  6.8/6.9 MB 1.9 MB/s eta 0:00:01\n",
      "   ---------------------------------------  6.9/6.9 MB 1.9 MB/s eta 0:00:01\n",
      "   ---------------------------------------  6.9/6.9 MB 1.9 MB/s eta 0:00:01\n",
      "   ---------------------------------------- 6.9/6.9 MB 1.8 MB/s eta 0:00:00\n",
      "Downloading rich-13.7.1-py3-none-any.whl (240 kB)\n",
      "   ---------------------------------------- 0.0/240.7 kB ? eta -:--:--\n",
      "   --------------- ------------------------ 92.2/240.7 kB 1.7 MB/s eta 0:00:01\n",
      "   ---------------------------------- ----- 204.8/240.7 kB 2.1 MB/s eta 0:00:01\n",
      "   ---------------------------------------- 240.7/240.7 kB 1.3 MB/s eta 0:00:00\n",
      "Downloading tenacity-8.5.0-py3-none-any.whl (28 kB)\n",
      "Downloading gitdb-4.0.11-py3-none-any.whl (62 kB)\n",
      "   ---------------------------------------- 0.0/62.7 kB ? eta -:--:--\n",
      "   ---------------------------------------- 62.7/62.7 kB 1.7 MB/s eta 0:00:00\n",
      "Downloading markdown_it_py-3.0.0-py3-none-any.whl (87 kB)\n",
      "   ---------------------------------------- 0.0/87.5 kB ? eta -:--:--\n",
      "   ------------------------------------- -- 81.9/87.5 kB 4.8 MB/s eta 0:00:01\n",
      "   ---------------------------------------- 87.5/87.5 kB 1.6 MB/s eta 0:00:00\n",
      "Downloading pygments-2.18.0-py3-none-any.whl (1.2 MB)\n",
      "   ---------------------------------------- 0.0/1.2 MB ? eta -:--:--\n",
      "   ---- ----------------------------------- 0.1/1.2 MB 2.4 MB/s eta 0:00:01\n",
      "   ------ --------------------------------- 0.2/1.2 MB 2.1 MB/s eta 0:00:01\n",
      "   --------- ------------------------------ 0.3/1.2 MB 2.0 MB/s eta 0:00:01\n",
      "   --------------- ------------------------ 0.5/1.2 MB 2.0 MB/s eta 0:00:01\n",
      "   ----------------- ---------------------- 0.5/1.2 MB 1.7 MB/s eta 0:00:01\n",
      "   --------------------- ------------------ 0.6/1.2 MB 1.8 MB/s eta 0:00:01\n",
      "   ------------------------ --------------- 0.7/1.2 MB 1.8 MB/s eta 0:00:01\n",
      "   ----------------------------- ---------- 0.9/1.2 MB 1.8 MB/s eta 0:00:01\n",
      "   ------------------------------- -------- 0.9/1.2 MB 1.8 MB/s eta 0:00:01\n",
      "   --------------------------------- ------ 1.0/1.2 MB 1.8 MB/s eta 0:00:01\n",
      "   ------------------------------------ --- 1.1/1.2 MB 1.7 MB/s eta 0:00:01\n",
      "   ---------------------------------------  1.2/1.2 MB 1.7 MB/s eta 0:00:01\n",
      "   ---------------------------------------- 1.2/1.2 MB 1.6 MB/s eta 0:00:00\n",
      "Downloading mdurl-0.1.2-py3-none-any.whl (10.0 kB)\n",
      "Downloading smmap-5.0.1-py3-none-any.whl (24 kB)\n",
      "Installing collected packages: tenacity, smmap, pygments, mdurl, blinker, pydeck, markdown-it-py, gitdb, rich, gitpython, altair, streamlit\n",
      "  Attempting uninstall: tenacity\n",
      "    Found existing installation: tenacity 8.0.1\n",
      "    Uninstalling tenacity-8.0.1:\n",
      "      Successfully uninstalled tenacity-8.0.1\n",
      "  Attempting uninstall: pygments\n",
      "    Found existing installation: Pygments 2.11.2\n",
      "    Uninstalling Pygments-2.11.2:\n",
      "      Successfully uninstalled Pygments-2.11.2\n",
      "Successfully installed altair-5.3.0 blinker-1.8.2 gitdb-4.0.11 gitpython-3.1.43 markdown-it-py-3.0.0 mdurl-0.1.2 pydeck-0.9.1 pygments-2.18.0 rich-13.7.1 smmap-5.0.1 streamlit-1.36.0 tenacity-8.5.0\n"
     ]
    },
    {
     "name": "stderr",
     "output_type": "stream",
     "text": [
      "\n",
      "[notice] A new release of pip is available: 24.0 -> 24.1.2\n",
      "[notice] To update, run: python.exe -m pip install --upgrade pip\n"
     ]
    }
   ],
   "source": [
    "!pip install streamlit\n",
    "import pandas as pd\n",
    "import streamlit as st\n",
    "import matplotlib.pyplot as plt\n",
    "import seaborn as sns"
   ]
  },
  {
   "cell_type": "code",
   "execution_count": 3,
   "id": "4231a72d",
   "metadata": {},
   "outputs": [],
   "source": [
    "# Load the data\n",
    "df = pd.read_csv('jumia_techweek_products.csv')"
   ]
  },
  {
   "cell_type": "code",
   "execution_count": 4,
   "id": "e8855e1a",
   "metadata": {},
   "outputs": [],
   "source": [
    "# Convert price and old_price to numeric (remove non-numeric characters and convert to float)\n",
    "df['price'] = df['price'].str.replace('KSh', '').str.replace(',', '')\n",
    "df['old_price'] = df['old_price'].str.replace('KSh', '').str.replace(',', '')"
   ]
  },
  {
   "cell_type": "code",
   "execution_count": 5,
   "id": "3ec2d136",
   "metadata": {},
   "outputs": [],
   "source": [
    "# Convert to numeric with errors='coerce'\n",
    "df['price'] = pd.to_numeric(df['price'], errors='coerce')\n",
    "df['old_price'] = pd.to_numeric(df['old_price'], errors='coerce')"
   ]
  },
  {
   "cell_type": "code",
   "execution_count": 6,
   "id": "fb5a3efa",
   "metadata": {},
   "outputs": [],
   "source": [
    "# Extract numeric discount percentage\n",
    "df['discount'] = df['discount'].str.replace('%', '')\n",
    "df['discount'] = pd.to_numeric(df['discount'], errors='coerce')"
   ]
  },
  {
   "cell_type": "code",
   "execution_count": 7,
   "id": "3bc54210",
   "metadata": {},
   "outputs": [
    {
     "name": "stderr",
     "output_type": "stream",
     "text": [
      "2024-07-20 15:44:14.401 \n",
      "  \u001b[33m\u001b[1mWarning:\u001b[0m to view this Streamlit app on a browser, run it with the following\n",
      "  command:\n",
      "\n",
      "    streamlit run C:\\Users\\user\\anaconda3\\lib\\site-packages\\ipykernel_launcher.py [ARGUMENTS]\n"
     ]
    },
    {
     "data": {
      "text/plain": [
       "DeltaGenerator()"
      ]
     },
     "execution_count": 7,
     "metadata": {},
     "output_type": "execute_result"
    }
   ],
   "source": [
    "# Streamlit app\n",
    "st.title('Jumia Tech Week Products Dashboard')"
   ]
  },
  {
   "cell_type": "code",
   "execution_count": 8,
   "id": "8cdf5f97",
   "metadata": {},
   "outputs": [
    {
     "data": {
      "text/plain": [
       "DeltaGenerator(_root_container=1, _parent=DeltaGenerator())"
      ]
     },
     "execution_count": 8,
     "metadata": {},
     "output_type": "execute_result"
    }
   ],
   "source": [
    "# Streamlit sidebar for filters\n",
    "st.sidebar.header('Filter Options')"
   ]
  },
  {
   "cell_type": "code",
   "execution_count": 9,
   "id": "10e85d7d",
   "metadata": {},
   "outputs": [],
   "source": [
    "# Filter by discount percentage\n",
    "min_discount = st.sidebar.slider('Min Discount (%)', 0.0, 100.0, 0.0)\n",
    "max_discount = st.sidebar.slider('Max Discount (%)', 0.0, 100.0, 100.0)"
   ]
  },
  {
   "cell_type": "code",
   "execution_count": 10,
   "id": "5456923e",
   "metadata": {},
   "outputs": [],
   "source": [
    "# Filter by price range\n",
    "min_price = st.sidebar.slider('Min Price (KSh)', float(df['price'].min()), float(df['price'].max()), float(df['price'].min()))\n",
    "max_price = st.sidebar.slider('Max Price (KSh)', float(df['price'].min()), float(df['price'].max()), float(df['price'].max()))"
   ]
  },
  {
   "cell_type": "code",
   "execution_count": 11,
   "id": "10905aa6",
   "metadata": {},
   "outputs": [],
   "source": [
    "# Apply filters\n",
    "filtered_df = df[(df['discount'] >= min_discount) & (df['discount'] <= max_discount) &\n",
    "                 (df['price'] >= min_price) & (df['price'] <= max_price)]"
   ]
  },
  {
   "cell_type": "code",
   "execution_count": 12,
   "id": "32894ca9",
   "metadata": {},
   "outputs": [
    {
     "data": {
      "text/plain": [
       "DeltaGenerator()"
      ]
     },
     "execution_count": 12,
     "metadata": {},
     "output_type": "execute_result"
    }
   ],
   "source": [
    "# Display filtered data\n",
    "st.write(f\"### Showing {filtered_df.shape[0]} products\")\n",
    "st.dataframe(filtered_df)"
   ]
  },
  {
   "cell_type": "code",
   "execution_count": 13,
   "id": "de4e945b",
   "metadata": {},
   "outputs": [],
   "source": [
    "# Display basic statistics\n",
    "st.write(\"### Basic Statistics\")\n",
    "st.write(filtered_df.describe())"
   ]
  },
  {
   "cell_type": "code",
   "execution_count": 14,
   "id": "f091d478",
   "metadata": {},
   "outputs": [
    {
     "data": {
      "text/plain": [
       "DeltaGenerator()"
      ]
     },
     "execution_count": 14,
     "metadata": {},
     "output_type": "execute_result"
    }
   ],
   "source": [
    "# Charts\n",
    "st.header('Visualizations')"
   ]
  },
  {
   "cell_type": "code",
   "execution_count": 16,
   "id": "708468bf",
   "metadata": {},
   "outputs": [
    {
     "data": {
      "text/plain": [
       "DeltaGenerator()"
      ]
     },
     "execution_count": 16,
     "metadata": {},
     "output_type": "execute_result"
    }
   ],
   "source": [
    "# Bar chart for average price per discount range\n",
    "st.subheader('Average Price per Discount Range')\n",
    "avg_price_per_discount = filtered_df.groupby('discount')['price'].mean().reset_index()\n",
    "st.bar_chart(avg_price_per_discount.set_index('discount'))"
   ]
  },
  {
   "cell_type": "code",
   "execution_count": 17,
   "id": "ac4ddbaa",
   "metadata": {},
   "outputs": [
    {
     "data": {
      "text/plain": [
       "DeltaGenerator()"
      ]
     },
     "execution_count": 17,
     "metadata": {},
     "output_type": "execute_result"
    }
   ],
   "source": [
    "# Line chart for price trend\n",
    "st.subheader('Price Trend')\n",
    "st.line_chart(filtered_df[['price']].reset_index(drop=True))"
   ]
  },
  {
   "cell_type": "code",
   "execution_count": 18,
   "id": "53a11f60",
   "metadata": {},
   "outputs": [
    {
     "data": {
      "text/plain": [
       "DeltaGenerator()"
      ]
     },
     "execution_count": 18,
     "metadata": {},
     "output_type": "execute_result"
    }
   ],
   "source": [
    "# Scatter plot of old price vs new price\n",
    "st.subheader('Old Price vs New Price')\n",
    "fig, ax = plt.subplots()\n",
    "ax.scatter(filtered_df['old_price'], filtered_df['price'], alpha=0.5)\n",
    "ax.set_xlabel('Old Price (KSh)')\n",
    "ax.set_ylabel('New Price (KSh)')\n",
    "ax.set_title('Old Price vs New Price')\n",
    "st.pyplot(fig)"
   ]
  },
  {
   "cell_type": "code",
   "execution_count": 19,
   "id": "4ee7a1c3",
   "metadata": {},
   "outputs": [
    {
     "data": {
      "text/plain": [
       "DeltaGenerator()"
      ]
     },
     "execution_count": 19,
     "metadata": {},
     "output_type": "execute_result"
    }
   ],
   "source": [
    "# Pie chart of discount distribution\n",
    "st.subheader('Discount Distribution')\n",
    "discount_counts = filtered_df['discount'].value_counts()\n",
    "fig, ax = plt.subplots()\n",
    "ax.pie(discount_counts, labels=discount_counts.index, autopct='%1.1f%%', startangle=90)\n",
    "ax.set_title('Discount Distribution')\n",
    "st.pyplot(fig)\n"
   ]
  },
  {
   "cell_type": "code",
   "execution_count": 21,
   "id": "4cf35ec9",
   "metadata": {},
   "outputs": [
    {
     "name": "stderr",
     "output_type": "stream",
     "text": [
      "Usage: streamlit run [OPTIONS] TARGET [ARGS]...\n",
      "Try 'streamlit run --help' for help.\n",
      "\n",
      "Error: Streamlit requires raw Python (.py) files, not .ipynb.\n",
      "For more information, please see https://docs.streamlit.io\n"
     ]
    }
   ],
   "source": [
    "!streamlit run streamlit.ipynb"
   ]
  },
  {
   "cell_type": "code",
   "execution_count": null,
   "id": "e73684a1",
   "metadata": {},
   "outputs": [],
   "source": []
  }
 ],
 "metadata": {
  "kernelspec": {
   "display_name": "Python 3 (ipykernel)",
   "language": "python",
   "name": "python3"
  },
  "language_info": {
   "codemirror_mode": {
    "name": "ipython",
    "version": 3
   },
   "file_extension": ".py",
   "mimetype": "text/x-python",
   "name": "python",
   "nbconvert_exporter": "python",
   "pygments_lexer": "ipython3",
   "version": "3.10.9"
  }
 },
 "nbformat": 4,
 "nbformat_minor": 5
}
